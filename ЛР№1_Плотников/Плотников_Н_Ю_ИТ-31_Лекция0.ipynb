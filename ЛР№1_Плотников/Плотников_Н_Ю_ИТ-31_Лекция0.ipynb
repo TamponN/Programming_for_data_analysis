{
 "cells": [
  {
   "cell_type": "markdown",
   "metadata": {},
   "source": [
    "# Лекция0\n",
    "# Выполнил Плотников Никита ИТ-31"
   ]
  },
  {
   "cell_type": "markdown",
   "metadata": {},
   "source": [
    "**Задание**\n",
    "\n",
    "1. Получите доступ к библиотеке Pandas, используя имя\n",
    "переменной pd.\n",
    "2. Создайте список music в 5 парами «имя вашего\n",
    "любимого исполнителя – название его песни».\n",
    "3. Создайте список entries с названиями для двух\n",
    "столбцов – artist и track.\n",
    "4. Используя конструктор DataFrame(), создайте таблицу\n",
    "из списка ваших любимых исполнителей music и списка\n",
    "столбцов entries. Сохраните таблицу в переменной\n",
    "playlist и выведите эту сборную таблицу на экран."
   ]
  },
  {
   "cell_type": "code",
   "execution_count": 1,
   "metadata": {},
   "outputs": [
    {
     "name": "stdout",
     "output_type": "stream",
     "text": [
      "         artist       track\n",
      "0   Билли Айлиш     Bad Guy\n",
      "1     Леди Гага  Poker Face\n",
      "2         Дрейк  God's Plan\n",
      "3  Тейлор Свифт  Love Story\n",
      "4         Адель       Hello\n"
     ]
    }
   ],
   "source": [
    "import pandas as pd\n",
    "\n",
    "music = [\n",
    "    (\"Билли Айлиш\", \"Bad Guy\"),\n",
    "    (\"Леди Гага\", \"Poker Face\"),\n",
    "    (\"Дрейк\", \"God's Plan\"),\n",
    "    (\"Эминем\", \"Rap God\"),\n",
    "    (\"MC Пох\", \"Лес\")\n",
    "]\n",
    "\n",
    "entries = [\"artist\", \"track\"]\n",
    "\n",
    "playlist = pd.DataFrame(music, columns=entries)\n",
    "\n",
    "print(playlist)\n"
   ]
  }
 ],
 "metadata": {
  "kernelspec": {
   "display_name": "Python 3",
   "language": "python",
   "name": "python3"
  },
  "language_info": {
   "codemirror_mode": {
    "name": "ipython",
    "version": 3
   },
   "file_extension": ".py",
   "mimetype": "text/x-python",
   "name": "python",
   "nbconvert_exporter": "python",
   "pygments_lexer": "ipython3",
   "version": "3.12.3"
  }
 },
 "nbformat": 4,
 "nbformat_minor": 2
}
